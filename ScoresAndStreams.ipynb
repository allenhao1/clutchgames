{
 "cells": [
  {
   "cell_type": "code",
   "execution_count": 130,
   "metadata": {
    "collapsed": true
   },
   "outputs": [],
   "source": [
    "from bs4 import BeautifulSoup\n",
    "import re\n",
    "import requests"
   ]
  },
  {
   "cell_type": "code",
   "execution_count": 5,
   "metadata": {
    "collapsed": false
   },
   "outputs": [],
   "source": [
    "f = open('espn.html')\n",
    "text = f.read()"
   ]
  },
  {
   "cell_type": "code",
   "execution_count": 84,
   "metadata": {
    "collapsed": false
   },
   "outputs": [],
   "source": [
    "teams = [\"\", \"Atlanta Hawks\",\"Boston Celtics\",\"New Orleans Pelicans\",\"Chicago Bulls\",\"Cleveland Cavaliers\",\"Dallas Mavericks\",\"Denver Nuggets\",\"Detroit Pistons\",\"Golden State Warriors\",\"Houston Rockets\",\"Indiana Pacers\",\"Los Angeles Clippers\",\"Los Angeles Lakers\",\"Miami Heat\",\"Milwaukee Bucks\",\"Minnesota Timberwolves\",\"Brooklyn Nets\",\"New York Knicks\",\"Orlando Magic\",\"Philadelphia 76ers\",\" Phoenix Suns\",\"Portland Trail Blazers\",\"Sacramento Kings\",\"San Antonio Spurs\",\"Oklahoma City Thunder\",\"Utah Jazz\",\"Washington Wizards\",\"Toronto Raptors\",\"Memphis Grizzlies\",\"Charlotte Hornets\"]"
   ]
  },
  {
   "cell_type": "code",
   "execution_count": 96,
   "metadata": {
    "collapsed": true
   },
   "outputs": [],
   "source": [
    "soup = BeautifulSoup(text, 'html.parser')"
   ]
  },
  {
   "cell_type": "code",
   "execution_count": 127,
   "metadata": {
    "collapsed": false
   },
   "outputs": [
    {
     "name": "stdout",
     "output_type": "stream",
     "text": [
      "('Washington Wizards', 'Cleveland Cavaliers', 76, 70, u'8:56', 3)\n",
      "('Toronto Raptors', 'Dallas Mavericks', 25, 15, u'3:13', 1)\n",
      "('New York Knicks', 'San Antonio Spurs', 18, 30, u'2:25', 1)\n"
     ]
    }
   ],
   "source": [
    "for scoreboard in soup.find_all('article', class_=['live']): # If I put basketball and scoreboard as classes, bs4 doesn't pick up on live. Displays finshed games\n",
    "    datetime = scoreboard.find(class_='date-time').text\n",
    "    m = re.match(r'(\\d+:\\d+) - (\\d)', datetime)\n",
    "    time = m.group(1) # time left in quarter\n",
    "    quarter = int(m.group(2))\n",
    "    away = teams[int(scoreboard['data-awayid'])]\n",
    "    home = teams[int(scoreboard['data-homeid'])]\n",
    "    away_score = int(scoreboard.find(class_='away').find(class_='total').text)\n",
    "    home_score = int(scoreboard.find(class_='home').find(class_='total').text)\n",
    "    print(away, home, away_score, home_score, time, quarter)\n",
    "    \n",
    "    "
   ]
  },
  {
   "cell_type": "code",
   "execution_count": 129,
   "metadata": {
    "collapsed": false
   },
   "outputs": [],
   "source": [
    "redditurl = 'https://www.reddit.com/r/nbastreams/comments/686srv/game_thread_los_angeles_clippers_utah_jazz_223000/?st=j244m1mm&sh=f1098fb4'"
   ]
  },
  {
   "cell_type": "code",
   "execution_count": 132,
   "metadata": {
    "collapsed": true
   },
   "outputs": [],
   "source": [
    "r = requests.get(redditurl).text\n",
    "soup = BeautifulSoup(r, 'html.parser')"
   ]
  },
  {
   "cell_type": "code",
   "execution_count": 137,
   "metadata": {
    "collapsed": false
   },
   "outputs": [],
   "source": [
    "a = soup.find('div', {'data-author':'StreamsBotMod'})"
   ]
  },
  {
   "cell_type": "code",
   "execution_count": 156,
   "metadata": {
    "collapsed": false
   },
   "outputs": [
    {
     "data": {
      "text/plain": [
       "[<a href=\"http://yoursportsinhd.com/game/0041600176/\" rel=\"nofollow\">FULL 60 FPS/6000KBPS 720p English</a>,\n",
       " <a href=\"http://www.247hd.info/nba.php?extid=0041600176&amp;view=home\" rel=\"nofollow\"><strong>HD</strong> EN 720p60 6000kbps  Home Feed</a>,\n",
       " <a href=\"http://www.247hd.info/nba.php?extid=0041600176&amp;view=away\" rel=\"nofollow\"><strong>HD</strong> EN 720p60 6000kbps  Away Feed</a>,\n",
       " <a href=\"http://eplstreams.club/na.php?id=0041600176&amp;feed=1&amp;cam=0\" rel=\"nofollow\"><strong>HD</strong> EN 720p 6000kbps 60fps Jazz Feed</a>,\n",
       " <a href=\"http://eplstreams.club/na.php?id=0041600176&amp;feed=4&amp;cam=0\" rel=\"nofollow\"><strong>HD</strong> EN 720p 6000kbps 60fps Clippers Feed</a>,\n",
       " <a href=\"http://eplstreams.club/na.php?id=0041600176&amp;feed=1&amp;cam=18\" rel=\"nofollow\"><strong>HD</strong> EN 720p 6000kbps 60fps ESPN Feed</a>,\n",
       " <a href=\"https://thinfi.com/0gr8\" rel=\"nofollow\">espn</a>]"
      ]
     },
     "execution_count": 156,
     "metadata": {},
     "output_type": "execute_result"
    }
   ],
   "source": [
    "rows = a.find('table').find_all('tr')[1:]\n",
    "links = [row.find_all('a')[1] for row in rows]\n",
    "\n"
   ]
  },
  {
   "cell_type": "code",
   "execution_count": null,
   "metadata": {
    "collapsed": true
   },
   "outputs": [],
   "source": []
  }
 ],
 "metadata": {
  "kernelspec": {
   "display_name": "Python 3",
   "language": "python",
   "name": "python 3"
  },
  "language_info": {
   "codemirror_mode": {
    "name": "ipython",
    "version": 2
   },
   "file_extension": ".py",
   "mimetype": "text/x-python",
   "name": "python",
   "nbconvert_exporter": "python",
   "pygments_lexer": "ipython2",
   "version": "2.7.12"
  }
 },
 "nbformat": 4,
 "nbformat_minor": 0
}
